{
 "cells": [
  {
   "cell_type": "code",
   "execution_count": 2,
   "metadata": {},
   "outputs": [],
   "source": [
    "# Prep & dependencies\n",
    "\n",
    "import requests, os\n",
    "import torch, time\n",
    "from transformers import CLIPModel, CLIPProcessor\n",
    "\n",
    "from IPython.display import display, Image, HTML\n",
    "import torch.nn.functional as F  # Import softmax from PyTorch"
   ]
  },
  {
   "cell_type": "code",
   "execution_count": 3,
   "metadata": {},
   "outputs": [
    {
     "name": "stderr",
     "output_type": "stream",
     "text": [
      "Using a slow image processor as `use_fast` is unset and a slow processor was saved with this model. `use_fast=True` will be the default behavior in v4.50, even if the model was saved with a slow processor. This will result in minor differences in outputs. You'll still be able to use a slow processor with `use_fast=False`.\n"
     ]
    },
    {
     "name": "stdout",
     "output_type": "stream",
     "text": [
      "torch.Size([562842, 512])\n"
     ]
    }
   ],
   "source": [
    "# Run to load base model\n",
    "model = CLIPModel.from_pretrained(\"openai/clip-vit-base-patch32\")\n",
    "processor = CLIPProcessor.from_pretrained(\"openai/clip-vit-base-patch32\")\n",
    "\n",
    "# Load base mapimg\n",
    "mapimg = torch.load('mapimg.pt')\n",
    "mapimg_idx = torch.load('mapimg_idx.pt')\n",
    "mapimg_normalized = torch.load('mapimg_normalized.pt') \n",
    "print(mapimg.shape)"
   ]
  },
  {
   "cell_type": "code",
   "execution_count": 1,
   "metadata": {},
   "outputs": [
    {
     "name": "stderr",
     "output_type": "stream",
     "text": [
      "Using a slow image processor as `use_fast` is unset and a slow processor was saved with this model. `use_fast=True` will be the default behavior in v4.50, even if the model was saved with a slow processor. This will result in minor differences in outputs. You'll still be able to use a slow processor with `use_fast=False`.\n"
     ]
    },
    {
     "name": "stdout",
     "output_type": "stream",
     "text": [
      "* Running on local URL:  http://127.0.0.1:7860\n",
      "* Running on public URL: https://4c5b9ca9dfd7b5d524.gradio.live\n",
      "\n",
      "This share link expires in 72 hours. For free permanent hosting and GPU upgrades, run `gradio deploy` from the terminal in the working directory to deploy to Hugging Face Spaces (https://huggingface.co/spaces)\n"
     ]
    },
    {
     "data": {
      "text/html": [
       "<div><iframe src=\"https://4c5b9ca9dfd7b5d524.gradio.live\" width=\"100%\" height=\"500\" allow=\"autoplay; camera; microphone; clipboard-read; clipboard-write;\" frameborder=\"0\" allowfullscreen></iframe></div>"
      ],
      "text/plain": [
       "<IPython.core.display.HTML object>"
      ]
     },
     "metadata": {},
     "output_type": "display_data"
    },
    {
     "data": {
      "text/plain": []
     },
     "execution_count": 1,
     "metadata": {},
     "output_type": "execute_result"
    }
   ],
   "source": [
    "import gradio as gr\n",
    "import torch\n",
    "import time\n",
    "import requests\n",
    "from PIL import Image\n",
    "from io import BytesIO\n",
    "from transformers import CLIPProcessor, CLIPModel\n",
    "\n",
    "# Load the CLIP model\n",
    "device = \"cuda\" if torch.cuda.is_available() else \"cpu\"\n",
    "model = CLIPModel.from_pretrained(\"openai/clip-vit-base-patch32\").to(device)\n",
    "processor = CLIPProcessor.from_pretrained(\"openai/clip-vit-base-patch32\")\n",
    "\n",
    "# Load precomputed embeddings and index\n",
    "mapimg = torch.load(\"mapimg.pt\", map_location=device)  # Precomputed text embeddings\n",
    "mapimg_idx = torch.load(\"mapimg_idx.pt\")  # Corresponding image URLs/IDs\n",
    "mapimg_normalized = torch.load('mapimg_normalized.pt')  # Normalized embeddings for cosine similarity\n",
    "\n",
    "def fetch_images(image_urls):\n",
    "    \"\"\"Fetch and return images from URLs.\"\"\"\n",
    "    images = []\n",
    "    for url in image_urls:\n",
    "        try:\n",
    "            response = requests.get(url)\n",
    "            img = Image.open(BytesIO(response.content))\n",
    "            images.append(img)\n",
    "        except Exception as e:\n",
    "            print(f\"Failed to load image from {url}: {e}\")\n",
    "    return images\n",
    "\n",
    "def text_based_search(query):\n",
    "    \"\"\"Search using text input.\"\"\"\n",
    "    if not query:\n",
    "        return \"Please enter a search query.\"\n",
    "\n",
    "    if \"map\" not in query:\n",
    "        query += \" map\"\n",
    "\n",
    "    start_time = time.time()\n",
    "\n",
    "    # Preprocess text\n",
    "    text_inputs = processor(text=query, return_tensors=\"pt\", padding=True).to(device)\n",
    "    text_embeds = model.get_text_features(**text_inputs)\n",
    "    text_embeds = text_embeds / text_embeds.norm(p=2, dim=-1, keepdim=True)\n",
    "\n",
    "    # Compute similarities\n",
    "    logit_scale = model.logit_scale.exp()\n",
    "    logits = torch.matmul(mapimg_normalized, text_embeds.t()) * logit_scale\n",
    "    top_logits, top_indices = torch.topk(logits, k=5, dim=0)\n",
    "\n",
    "    # Retrieve top image URLs\n",
    "    results = [mapimg_idx[idx.item()] for idx in top_indices]\n",
    "\n",
    "    elapsed_time = time.time() - start_time\n",
    "    images = fetch_images(results)\n",
    "    \n",
    "    return images\n",
    "\n",
    "def image_based_search(image):\n",
    "    \"\"\"Search using an image input.\"\"\"\n",
    "    if image is None:\n",
    "        return \"Please upload an image.\"\n",
    "\n",
    "    start_time = time.time()\n",
    "\n",
    "    # Preprocess the image\n",
    "    image_inputs = processor(images=image, return_tensors=\"pt\", padding=True).to(device)\n",
    "    image_embeds = model.get_image_features(**image_inputs)\n",
    "    image_embeds = image_embeds / image_embeds.norm(p=2, dim=-1, keepdim=True)\n",
    "\n",
    "    # Compute similarities\n",
    "    logit_scale = model.logit_scale.exp()\n",
    "    logits = torch.matmul(mapimg_normalized, image_embeds.t()) * logit_scale\n",
    "    top_logits, top_indices = torch.topk(logits, k=5, dim=0)\n",
    "\n",
    "    # Retrieve top image URLs\n",
    "    results = [mapimg_idx[idx.item()] for idx in top_indices]\n",
    "\n",
    "    elapsed_time = time.time() - start_time\n",
    "    images = fetch_images(results)\n",
    "    \n",
    "    return images\n",
    "\n",
    "def search_map(query_text=None, image=None):\n",
    "    \"\"\"Unified search function.\"\"\"\n",
    "    if query_text:\n",
    "        return text_based_search(query_text)\n",
    "    elif image:\n",
    "        return image_based_search(image)\n",
    "    else:\n",
    "        return \"Please provide either text or an image.\"\n",
    "\n",
    "# Gradio UI\n",
    "iface = gr.Interface(\n",
    "    fn=search_map,\n",
    "    inputs=[\n",
    "        gr.Textbox(label=\"Enter search text (Optional)\"),\n",
    "        gr.Image(type=\"pil\", label=\"Upload an image (Optional)\")\n",
    "    ],\n",
    "    outputs=gr.Gallery(label=\"Search Results\"),  # Display images in a gallery\n",
    "    title=\"CLIP Map Search\",\n",
    "    description=\"Search maps using either text or an uploaded image.\"\n",
    ")\n",
    "\n",
    "# Launch Gradio UI\n",
    "iface.launch(share=True)\n"
   ]
  },
  {
   "cell_type": "code",
   "execution_count": null,
   "metadata": {},
   "outputs": [],
   "source": []
  }
 ],
 "metadata": {
  "kernelspec": {
   "display_name": "Python 3 (ipykernel)",
   "language": "python",
   "name": "python3"
  },
  "language_info": {
   "codemirror_mode": {
    "name": "ipython",
    "version": 3
   },
   "file_extension": ".py",
   "mimetype": "text/x-python",
   "name": "python",
   "nbconvert_exporter": "python",
   "pygments_lexer": "ipython3",
   "version": "3.13.2"
  }
 },
 "nbformat": 4,
 "nbformat_minor": 4
}
